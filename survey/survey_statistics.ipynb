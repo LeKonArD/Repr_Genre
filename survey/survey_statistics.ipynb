{
 "cells": [
  {
   "cell_type": "code",
   "execution_count": 1,
   "metadata": {},
   "outputs": [],
   "source": [
    "import pandas as pd\n",
    "import numpy as np\n",
    "import matplotlib.pyplot as plt\n",
    "import seaborn as sns"
   ]
  },
  {
   "cell_type": "code",
   "execution_count": 2,
   "metadata": {},
   "outputs": [],
   "source": [
    "data = pd.read_csv(\"survey.tsv\", sep=\"\\t\")"
   ]
  },
  {
   "cell_type": "code",
   "execution_count": 9,
   "metadata": {
    "scrolled": true
   },
   "outputs": [
    {
     "data": {
      "image/png": "[encoded data removed]",
      "text/plain": [
       "<Figure size 432x288 with 1 Axes>"
      ]
     },
     "metadata": {
      "needs_background": "light"
     },
     "output_type": "display_data"
    }
   ],
   "source": [
    "ax = sns.barplot(data=data.loc[:,[\"Adels_L1\",\"Adels_L2\",\"Adels_L3\",\"Adels_L4\"]])\n",
    "ax.invert_yaxis()"
   ]
  },
  {
   "cell_type": "code",
   "execution_count": 15,
   "metadata": {},
   "outputs": [
    {
     "name": "stdout",
     "output_type": "stream",
     "text": [
      "1.4444444444444444\n",
      "2.259259259259259\n",
      "2.648148148148148\n",
      "2.3703703703703707\n"
     ]
    }
   ],
   "source": [
    "print(data.loc[:,[\"Adels_L1\",\"Heimat_L1\",\"Arzt_L1\",\"Horror_L1\",\"Krimi_L1\",\"Scifi_L1\"]].mean().mean())\n",
    "print(data.loc[:,[\"Adels_L2\",\"Heimat_L2\",\"Arzt_L2\",\"Horror_L2\",\"Krimi_L2\",\"Scifi_L2\"]].mean().mean())\n",
    "print(data.loc[:,[\"Adels_L3\",\"Heimat_L3\",\"Arzt_L3\",\"Horror_L3\",\"Krimi_L3\",\"Scifi_L3\"]].mean().mean())\n",
    "print(data.loc[:,[\"Adels_L4\",\"Heimat_L4\",\"Arzt_L4\",\"Horror_L4\",\"Krimi_L4\",\"Scifi_L4\"]].mean().mean())"
   ]
  },
  {
   "cell_type": "code",
   "execution_count": 16,
   "metadata": {},
   "outputs": [
    {
     "name": "stdout",
     "output_type": "stream",
     "text": [
      "1.6481481481481481\n",
      "2.222222222222222\n",
      "2.8518518518518516\n",
      "2.685185185185185\n"
     ]
    }
   ],
   "source": [
    "print(data.loc[:,[\"Adels_L1_2\",\"Heimat_L1_2\",\"Arzt_L1_2\",\"Horror_L1_2\",\"Krimi_L1_2\",\"Scifi_L1_2\"]].mean().mean())\n",
    "print(data.loc[:,[\"Adels_L2_2\",\"Heimat_L2_2\",\"Arzt_L2_2\",\"Horror_L2_2\",\"Krimi_L2_2\",\"Scifi_L2_2\"]].mean().mean())\n",
    "print(data.loc[:,[\"Adels_L3_2\",\"Heimat_L3_2\",\"Arzt_L3_2\",\"Horror_L3_2\",\"Krimi_L3_2\",\"Scifi_L3_2\"]].mean().mean())\n",
    "print(data.loc[:,[\"Adels_L4_2\",\"Heimat_L4_2\",\"Arzt_L4_2\",\"Horror_L4_2\",\"Krimi_L4_2\",\"Scifi_L4_2\"]].mean().mean())"
   ]
  },
  {
   "cell_type": "code",
   "execution_count": 17,
   "metadata": {},
   "outputs": [
    {
     "name": "stdout",
     "output_type": "stream",
     "text": [
      "0.3333333333333333\n",
      "0.8148148148148149\n",
      "1.6481481481481481\n",
      "1.240740740740741\n"
     ]
    }
   ],
   "source": [
    "print(data.loc[:,[\"Adels_L1_err\",\"Heimat_L1_err\",\"Arzt_L1_err\",\"Horror_L1_err\",\"Krimi_L1_err\",\"Scifi_L1_err\"]].mean().mean())\n",
    "print(data.loc[:,[\"Adels_L2_err\",\"Heimat_L2_err\",\"Arzt_L2_err\",\"Horror_L2_err\",\"Krimi_L2_err\",\"Scifi_L2_err\"]].mean().mean())\n",
    "print(data.loc[:,[\"Adels_L3_err\",\"Heimat_L3_err\",\"Arzt_L3_err\",\"Horror_L3_err\",\"Krimi_L3_err\",\"Scifi_L3_err\"]].mean().mean())\n",
    "print(data.loc[:,[\"Adels_L4_err\",\"Heimat_L4_err\",\"Arzt_L4_err\",\"Horror_L4_err\",\"Krimi_L4_err\",\"Scifi_L4_err\"]].mean().mean())"
   ]
  },
  {
   "cell_type": "code",
   "execution_count": 25,
   "metadata": {
    "scrolled": true
   },
   "outputs": [
    {
     "name": "stdout",
     "output_type": "stream",
     "text": [
      "2.178571428571429\n",
      "2.5\n"
     ]
    }
   ],
   "source": [
    "print(data[data[\"Adel_gelesen\"] == 1].loc[:,[\"Adels_L1\",\"Adels_L2\",\"Adels_L3\",\"Adels_L4\"]].mean().mean())\n",
    "print(data[data[\"Adel_gelesen\"] == 0].loc[:,[\"Adels_L1\",\"Adels_L2\",\"Adels_L3\",\"Adels_L4\"]].mean().mean())"
   ]
  },
  {
   "cell_type": "code",
   "execution_count": 26,
   "metadata": {},
   "outputs": [
    {
     "name": "stdout",
     "output_type": "stream",
     "text": [
      "2.1\n",
      "1.75\n"
     ]
    }
   ],
   "source": [
    "print(data[data[\"Heimat_gelesen\"] == 1].loc[:,[\"Heimat_L1\",\"Heimat_L2\",\"Heimat_L3\",\"Heimat_L4\"]].mean().mean())\n",
    "print(data[data[\"Heimat_gelesen\"] == 0].loc[:,[\"Heimat_L1\",\"Heimat_L2\",\"Heimat_L3\",\"Heimat_L4\"]].mean().mean())"
   ]
  },
  {
   "cell_type": "code",
   "execution_count": 27,
   "metadata": {},
   "outputs": [
    {
     "name": "stdout",
     "output_type": "stream",
     "text": [
      "2.35\n",
      "1.375\n"
     ]
    }
   ],
   "source": [
    "print(data[data[\"Arzt_gelesen\"] == 1].loc[:,[\"Arzt_L1\",\"Arzt_L2\",\"Arzt_L3\",\"Arzt_L4\"]].mean().mean())\n",
    "print(data[data[\"Arzt_gelesen\"] == 0].loc[:,[\"Arzt_L1\",\"Arzt_L2\",\"Arzt_L3\",\"Arzt_L4\"]].mean().mean())"
   ]
  },
  {
   "cell_type": "code",
   "execution_count": 28,
   "metadata": {},
   "outputs": [
    {
     "name": "stdout",
     "output_type": "stream",
     "text": [
      "2.3333333333333335\n",
      "nan\n"
     ]
    }
   ],
   "source": [
    "print(data[data[\"Horror_gelesen\"] == 1].loc[:,[\"Horror_L1\",\"Horror_L2\",\"Horror_L3\",\"Horror_L4\"]].mean().mean())\n",
    "print(data[data[\"Horror_gelesen\"] == 0].loc[:,[\"Horror_L1\",\"Horror_L2\",\"Horror_L3\",\"Horror_L4\"]].mean().mean())"
   ]
  },
  {
   "cell_type": "code",
   "execution_count": 29,
   "metadata": {},
   "outputs": [
    {
     "name": "stdout",
     "output_type": "stream",
     "text": [
      "2.2142857142857144\n",
      "2.125\n"
     ]
    }
   ],
   "source": [
    "print(data[data[\"Scifi_gelesen\"] == 1].loc[:,[\"Scifi_L1\",\"Scifi_L2\",\"Scifi_L3\",\"Scifi_L4\"]].mean().mean())\n",
    "print(data[data[\"Scifi_gelesen\"] == 0].loc[:,[\"Scifi_L1\",\"Scifi_L2\",\"Scifi_L3\",\"Scifi_L4\"]].mean().mean())"
   ]
  },
  {
   "cell_type": "code",
   "execution_count": 31,
   "metadata": {},
   "outputs": [
    {
     "name": "stdout",
     "output_type": "stream",
     "text": [
      "2.375\n",
      "3.0\n"
     ]
    }
   ],
   "source": [
    "print(data[data[\"Krimi_gelesen\"] == 1].loc[:,[\"Krimi_L1\",\"Krimi_L2\",\"Krimi_L3\",\"Krimi_L4\"]].mean().mean())\n",
    "print(data[data[\"Krimi_gelesen\"] == 0].loc[:,[\"Krimi_L1\",\"Krimi_L2\",\"Krimi_L3\",\"Krimi_L4\"]].mean().mean())"
   ]
  },
  {
   "cell_type": "code",
   "execution_count": 34,
   "metadata": {
    "scrolled": true
   },
   "outputs": [
    {
     "name": "stdout",
     "output_type": "stream",
     "text": [
      "2.25\n",
      "2.25\n",
      "nan\n",
      "1.9444444444444444\n",
      "2.5\n",
      "1.625\n",
      "2.3214285714285716\n",
      "2.375\n",
      "1.75\n",
      "2.4166666666666665\n",
      "2.6\n",
      "2.25\n"
     ]
    }
   ],
   "source": [
    "print(data[data[\"Adels_bild\"] == 1].loc[:,[\"Adels_L1\",\"Adels_L2\",\"Adels_L3\",\"Adels_L4\"]].mean().mean())\n",
    "print(data[data[\"Adels_bild\"] == 0].loc[:,[\"Adels_L1\",\"Adels_L2\",\"Adels_L3\",\"Adels_L4\"]].mean().mean())\n",
    "print(data[data[\"Heimat_bild\"] == 1].loc[:,[\"Heimat_L1\",\"Heimat_L2\",\"Heimat_L3\",\"Heimat_L4\"]].mean().mean())\n",
    "print(data[data[\"Heimat_bild\"] == 0].loc[:,[\"Heimat_L1\",\"Heimat_L2\",\"Heimat_L3\",\"Heimat_L4\"]].mean().mean())\n",
    "print(data[data[\"Arzt_bild\"] == 1].loc[:,[\"Arzt_L1\",\"Arzt_L2\",\"Arzt_L3\",\"Arzt_L4\"]].mean().mean())\n",
    "print(data[data[\"Arzt_bild\"] == 0].loc[:,[\"Arzt_L1\",\"Arzt_L2\",\"Arzt_L3\",\"Arzt_L4\"]].mean().mean())\n",
    "print(data[data[\"Horror_bild\"] == 1].loc[:,[\"Horror_L1\",\"Horror_L2\",\"Horror_L3\",\"Horror_L4\"]].mean().mean())\n",
    "print(data[data[\"Horror_bild\"] == 0].loc[:,[\"Horror_L1\",\"Horror_L2\",\"Horror_L3\",\"Horror_L4\"]].mean().mean())\n",
    "print(data[data[\"Scifi_bild\"] == 1].loc[:,[\"Scifi_L1\",\"Scifi_L2\",\"Scifi_L3\",\"Scifi_L4\"]].mean().mean())\n",
    "print(data[data[\"Scifi_bild\"] == 0].loc[:,[\"Scifi_L1\",\"Scifi_L2\",\"Scifi_L3\",\"Scifi_L4\"]].mean().mean())\n",
    "print(data[data[\"Krimi_bild\"] == 1].loc[:,[\"Krimi_L1\",\"Krimi_L2\",\"Krimi_L3\",\"Krimi_L4\"]].mean().mean())\n",
    "print(data[data[\"Krimi_bild\"] == 0].loc[:,[\"Krimi_L1\",\"Krimi_L2\",\"Krimi_L3\",\"Krimi_L4\"]].mean().mean())"
   ]
  },
  {
   "cell_type": "code",
   "execution_count": 47,
   "metadata": {
    "scrolled": true
   },
   "outputs": [],
   "source": [
    "x1 = np.array(data.loc[:,[\"Adels_L1\",\"Adels_L2\",\"Adels_L3\",\"Adels_L4\"]])\n",
    "x2 = np.array(data.loc[:,[\"Heimat_L1\",\"Heimat_L2\",\"Heimat_L3\",\"Heimat_L4\"]])\n",
    "x3 = np.array(data.loc[:,[\"Arzt_L1\",\"Arzt_L2\",\"Arzt_L3\",\"Arzt_L4\"]])\n",
    "x4 = np.array(data.loc[:,[\"Horror_L1\",\"Horror_L2\",\"Horror_L3\",\"Horror_L4\"]])\n",
    "x5 = np.array(data.loc[:,[\"Scifi_L1\",\"Scifi_L2\",\"Scifi_L3\",\"Scifi_L4\"]])\n",
    "x6 = np.array(data.loc[:,[\"Krimi_L1\",\"Krimi_L2\",\"Krimi_L3\",\"Krimi_L4\"]])"
   ]
  },
  {
   "cell_type": "code",
   "execution_count": 88,
   "metadata": {},
   "outputs": [],
   "source": [
    "x1 = np.array(data.loc[:,[\"Adels_L1_2\",\"Adels_L2_2\",\"Adels_L3_2\",\"Adels_L4_2\"]])\n",
    "x2 = np.array(data.loc[:,[\"Heimat_L1_2\",\"Heimat_L2_2\",\"Heimat_L3_2\",\"Heimat_L4_2\"]])\n",
    "x3 = np.array(data.loc[:,[\"Arzt_L1_2\",\"Arzt_L2_2\",\"Arzt_L3_2\",\"Arzt_L4_2\"]])\n",
    "x4 = np.array(data.loc[:,[\"Horror_L1_2\",\"Horror_L2_2\",\"Horror_L3_2\",\"Horror_L4_2\"]])\n",
    "x5 = np.array(data.loc[:,[\"Scifi_L1\",\"Scifi_L2_2\",\"Scifi_L3_2\",\"Scifi_L4_2\"]])\n",
    "x6 = np.array(data.loc[:,[\"Krimi_L1_2\",\"Krimi_L2_2\",\"Krimi_L3_2\",\"Krimi_L4_2\"]])"
   ]
  },
  {
   "cell_type": "code",
   "execution_count": 93,
   "metadata": {},
   "outputs": [
    {
     "name": "stderr",
     "output_type": "stream",
     "text": [
      "/usr/local/lib/python3.7/dist-packages/pandas/core/indexing.py:1494: FutureWarning: \n",
      "Passing list-likes to .loc or [] with any missing label will raise\n",
      "KeyError in the future, you can use .reindex() as an alternative.\n",
      "\n",
      "See the documentation here:\n",
      "https://pandas.pydata.org/pandas-docs/stable/indexing.html#deprecate-loc-reindex-listlike\n",
      "  return self._getitem_tuple(key)\n"
     ]
    }
   ],
   "source": [
    "x1 = np.array(data.loc[:,[\"Adels_L1_err\",\"Adels_L2_err\",\"Adels_L3_err\",\"Adels_L4_err\"]])\n",
    "x2 = np.array(data.loc[:,[\"Heimat_L1_err\",\"Heimat_L2_err\",\"Heimat_L3_err\",\"Heimat_L4_err\"]])\n",
    "x3 = np.array(data.loc[:,[\"Arzt_L1_err\",\"Arzt_L2_err\",\"Arzt_L3_err\",\"Arzt_L4_err\"]])\n",
    "x4 = np.array(data.loc[:,[\"Horror_L1_err\",\"Horror_L2_err\",\"Horror_L3_2__err\",\"Horror_L4_err\"]])\n",
    "x5 = np.array(data.loc[:,[\"Scifi_L1_err\",\"Scifi_L2_err\",\"Scifi_L3_err\",\"Scifi_L4_err\"]])\n",
    "x6 = np.array(data.loc[:,[\"Krimi_L1_err\",\"Krimi_L2_err\",\"Krimi_L3_err\",\"Krimi_L4_err\"]])"
   ]
  },
  {
   "cell_type": "code",
   "execution_count": 94,
   "metadata": {
    "scrolled": true
   },
   "outputs": [],
   "source": [
    "frame = pd.DataFrame(np.concatenate([x1,x2,x3,x4,x5,x6]).flatten())\n",
    "frame[\"Genre\"] = 36 * [\"Nobility\"] + 36 * [\"Country\"] + 36 * [\"Doctoral\"] + 36 * [\"Horror\"] + 36 * [\"SciFi\"] + 36 * [\"Crime\"]\n",
    "frame[\"Method\"] = [\"Zeta\",\"RFE\",\"Attention\",\"Sem. Zeta\"] * 54\n",
    "frame[\"Average rating\"] = frame[0]"
   ]
  },
  {
   "cell_type": "code",
   "execution_count": 76,
   "metadata": {},
   "outputs": [],
   "source": [
    "sns.set(font_scale=1.5)"
   ]
  },
  {
   "cell_type": "code",
   "execution_count": 95,
   "metadata": {},
   "outputs": [
    {
     "data": {
      "text/plain": [
       "<matplotlib.legend.Legend at 0x7f23c992c7f0>"
      ]
     },
     "execution_count": 95,
     "metadata": {},
     "output_type": "execute_result"
    },
    {
     "data": {
      "image/png": "[encoded data removed]",
      "text/plain": [
       "<Figure size 576x432 with 1 Axes>"
      ]
     },
     "metadata": {},
     "output_type": "display_data"
    }
   ],
   "source": [
    "fig, ax = plt.subplots(figsize=(8,6))\n",
    "g = sns.barplot(x=\"Genre\", y=\"Average rating\", hue=\"Method\", data=frame)\n",
    "g.legend(loc='center left', bbox_to_anchor=(1.01, 0.82), ncol=1)\n",
    "#plt.savefig(\"coverage.png\",bbox_inches=\"tight\",format=\"png\",dpi=200)"
   ]
  },
  {
   "cell_type": "code",
   "execution_count": 73,
   "metadata": {},
   "outputs": [
    {
     "data": {
      "text/html": [
       "<div>\n",
       "<style scoped>\n",
       "    .dataframe tbody tr th:only-of-type {\n",
       "        vertical-align: middle;\n",
       "    }\n",
       "\n",
       "    .dataframe tbody tr th {\n",
       "        vertical-align: top;\n",
       "    }\n",
       "\n",
       "    .dataframe thead th {\n",
       "        text-align: right;\n",
       "    }\n",
       "</style>\n",
       "<table border=\"1\" class=\"dataframe\">\n",
       "  <thead>\n",
       "    <tr style=\"text-align: right;\">\n",
       "      <th></th>\n",
       "      <th>Adels_L1</th>\n",
       "      <th>Adels_L2</th>\n",
       "      <th>Adels_L3</th>\n",
       "      <th>Adels_L4</th>\n",
       "    </tr>\n",
       "  </thead>\n",
       "  <tbody>\n",
       "    <tr>\n",
       "      <th>0</th>\n",
       "      <td>1</td>\n",
       "      <td>1</td>\n",
       "      <td>4</td>\n",
       "      <td>3</td>\n",
       "    </tr>\n",
       "    <tr>\n",
       "      <th>1</th>\n",
       "      <td>2</td>\n",
       "      <td>1</td>\n",
       "      <td>3</td>\n",
       "      <td>1</td>\n",
       "    </tr>\n",
       "    <tr>\n",
       "      <th>2</th>\n",
       "      <td>1</td>\n",
       "      <td>2</td>\n",
       "      <td>4</td>\n",
       "      <td>2</td>\n",
       "    </tr>\n",
       "    <tr>\n",
       "      <th>3</th>\n",
       "      <td>1</td>\n",
       "      <td>1</td>\n",
       "      <td>4</td>\n",
       "      <td>4</td>\n",
       "    </tr>\n",
       "    <tr>\n",
       "      <th>4</th>\n",
       "      <td>1</td>\n",
       "      <td>1</td>\n",
       "      <td>1</td>\n",
       "      <td>2</td>\n",
       "    </tr>\n",
       "    <tr>\n",
       "      <th>5</th>\n",
       "      <td>1</td>\n",
       "      <td>2</td>\n",
       "      <td>3</td>\n",
       "      <td>3</td>\n",
       "    </tr>\n",
       "    <tr>\n",
       "      <th>6</th>\n",
       "      <td>1</td>\n",
       "      <td>2</td>\n",
       "      <td>4</td>\n",
       "      <td>2</td>\n",
       "    </tr>\n",
       "    <tr>\n",
       "      <th>7</th>\n",
       "      <td>1</td>\n",
       "      <td>2</td>\n",
       "      <td>4</td>\n",
       "      <td>3</td>\n",
       "    </tr>\n",
       "    <tr>\n",
       "      <th>8</th>\n",
       "      <td>2</td>\n",
       "      <td>3</td>\n",
       "      <td>4</td>\n",
       "      <td>4</td>\n",
       "    </tr>\n",
       "  </tbody>\n",
       "</table>\n",
       "</div>"
      ],
      "text/plain": [
       "   Adels_L1  Adels_L2  Adels_L3  Adels_L4\n",
       "0         1         1         4         3\n",
       "1         2         1         3         1\n",
       "2         1         2         4         2\n",
       "3         1         1         4         4\n",
       "4         1         1         1         2\n",
       "5         1         2         3         3\n",
       "6         1         2         4         2\n",
       "7         1         2         4         3\n",
       "8         2         3         4         4"
      ]
     },
     "execution_count": 73,
     "metadata": {},
     "output_type": "execute_result"
    }
   ],
   "source": [
    "data.loc[:,[\"Adels_L1\",\"Adels_L2\",\"Adels_L3\",\"Adels_L4\"]]"
   ]
  }
 ],
 "metadata": {
  "kernelspec": {
   "display_name": "Python 3",
   "language": "python",
   "name": "python3"
  },
  "language_info": {
   "codemirror_mode": {
    "name": "ipython",
    "version": 3
   },
   "file_extension": ".py",
   "mimetype": "text/x-python",
   "name": "python",
   "nbconvert_exporter": "python",
   "pygments_lexer": "ipython3",
   "version": "3.7.3"
  }
 },
 "nbformat": 4,
 "nbformat_minor": 2
}
